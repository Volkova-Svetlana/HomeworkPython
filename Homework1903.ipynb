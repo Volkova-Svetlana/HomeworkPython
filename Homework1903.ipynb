{
 "cells": [
  {
   "cell_type": "markdown",
   "metadata": {},
   "source": [
    "#Task1"
   ]
  },
  {
   "cell_type": "code",
   "execution_count": 2,
   "metadata": {},
   "outputs": [
    {
     "name": "stdout",
     "output_type": "stream",
     "text": [
      "True\n"
     ]
    }
   ],
   "source": [
    "long_phrase = 'Насколько проще было бы писать программы, если бы не заказчики'\n",
    "short_phrase = '640Кб должно хватить для любых задач. Билл Гейтс (по легенде)'\n",
    "if len('Насколько проще было бы писать программы, если бы не заказчики') > len('640Кб должно хватить для любых задач. Билл Гейтс (по легенде)'):\n",
    "    print(\"True\")\n",
    "else:\n",
    "    print(\"False\")"
   ]
  },
  {
   "cell_type": "markdown",
   "metadata": {},
   "source": [
    "#Task2"
   ]
  },
  {
   "cell_type": "code",
   "execution_count": 4,
   "metadata": {},
   "outputs": [
    {
     "name": "stdout",
     "output_type": "stream",
     "text": [
      "Объем файла равен 21.514796257019043 Mb\n"
     ]
    }
   ],
   "source": [
    "x= 22559899 #объем файла в байтах\n",
    "y = x / (2 ** 20)\n",
    "print(\"Объем файла равен\", y, \"Mb\")"
   ]
  },
  {
   "cell_type": "markdown",
   "metadata": {},
   "source": [
    "#Task3"
   ]
  },
  {
   "cell_type": "code",
   "execution_count": 6,
   "metadata": {},
   "outputs": [
    {
     "name": "stdout",
     "output_type": "stream",
     "text": [
      "Введите месяц:октябрь\n",
      "Введите число:9\n",
      "Вывод: Весы\n"
     ]
    }
   ],
   "source": [
    "user_input1 = input(\"Введите месяц:\")\n",
    "user_input2 = int(input(\"Введите число:\"))\n",
    "if user_input1 == \"март\" and user_input2 >= 21:\n",
    "    print(\"Вывод: Овен\")\n",
    "if user_input1 == \"апрель\" and user_input2 <= 20:\n",
    "    print(\"Вывод: Овен\")\n",
    "if user_input1 == \"апрель\" and user_input2 >= 21:\n",
    "    print(\"Вывод: Телец\")\n",
    "if user_input1 == \"май\" and user_input2 <= 20:\n",
    "    print(\"Вывод: Телец\")\n",
    "if user_input1 == \"май\" and user_input2 >= 21:\n",
    "    print(\"Вывод: Близнецы\")\n",
    "if user_input1 == \"июнь\" and user_input2 <= 20:\n",
    "    print(\"Вывод: Близнецы\")\n",
    "if user_input1 == \"июнь\" and user_input2 >= 21:\n",
    "    print(\"Вывод: Рак\")\n",
    "if user_input1 == \"июль\" and user_input2 <= 22:\n",
    "    print(\"Вывод: Рак\")\n",
    "if user_input1 == \"июль\" and user_input2 >= 23:\n",
    "    print(\"Вывод: Лев\")\n",
    "if user_input1 == \"август\" and user_input2 <= 22:\n",
    "    print(\"Вывод: Лев\")\n",
    "if user_input1 == \"август\" and user_input2 >= 23:\n",
    "    print(\"Вывод: Дева\")\n",
    "if user_input1 == \"сентябрь\" and user_input2 <= 23:\n",
    "    print(\"Вывод: Дева\")\n",
    "if user_input1 == \"сентябрь\" and user_input2 >= 24:\n",
    "    print(\"Вывод: Весы\")\n",
    "if user_input1 == \"октябрь\" and user_input2 <= 23:\n",
    "    print(\"Вывод: Весы\")\n",
    "if user_input1 == \"октябрь\" and user_input2 >= 24:\n",
    "    print(\"Вывод: Скорпион\")\n",
    "if user_input1 == \"ноябрь\" and user_input2 <= 21:\n",
    "    print(\"Вывод: Скорпион\")\n",
    "if user_input1 == \"ноябрь\" and user_input2 >= 22:\n",
    "    print(\"Вывод: Стрелец\")\n",
    "if user_input1 == \"декабрь\" and user_input2 <= 21:\n",
    "    print(\"Вывод: Стрелец\")\n",
    "if user_input1 == \"декабрь\" and user_input2 >= 22:\n",
    "    print(\"Вывод: Козерог\")\n",
    "if user_input1 == \"январь\" and user_input2 <= 19:\n",
    "    print(\"Вывод: Козерог\")\n",
    "if user_input1 == \"январь\" and user_input2 >= 22:\n",
    "    print(\"Вывод: Водолей\")\n",
    "if user_input1 == \"февраль\" and user_input2 <= 18:\n",
    "    print(\"Вывод: Водолей\")\n",
    "if user_input1 == \"февраль\" and user_input2 >= 19:\n",
    "    print(\"Вывод: Рыбы\")\n",
    "if user_input1 == \"март\" and user_input2 <= 20:\n",
    "    print(\"Вывод: Рыбы\")"
   ]
  },
  {
   "cell_type": "markdown",
   "metadata": {},
   "source": [
    "#Task4"
   ]
  },
  {
   "cell_type": "code",
   "execution_count": 9,
   "metadata": {},
   "outputs": [
    {
     "name": "stdout",
     "output_type": "stream",
     "text": [
      "Введите заработанную плату в месяц:150000\n",
      "Введите сколько процентов уходит на ипотеку:20\n",
      "Введите сколько процентов уходит на жизнь:40\n",
      "Введите количество премий за год:2\n",
      "Вывод: На ипотеку было потрачено: 360000 рублей Было накоплено: 870000 рублей\n"
     ]
    }
   ],
   "source": [
    "user_input1 = int(input(\"Введите заработанную плату в месяц:\"))\n",
    "user_input2 = int(input(\"Введите сколько процентов уходит на ипотеку:\"))\n",
    "user_input3 = int(input(\"Введите сколько процентов уходит на жизнь:\"))\n",
    "user_input4 = int(input(\"Введите количество премий за год:\"))\n",
    "х = user_input1 // 100 * user_input2 * 12\n",
    "y = (user_input1 - (user_input1 // 100 * user_input2) - (user_input1 // 100 * user_input3)) * 12 + (user_input1 // 100 * 50 * user_input4)\n",
    "print(\"Вывод: На ипотеку было потрачено:\", х, \"рублей Было накоплено:\", y, \"рублей\")"
   ]
  },
  {
   "cell_type": "code",
   "execution_count": null,
   "metadata": {},
   "outputs": [],
   "source": []
  }
 ],
 "metadata": {
  "kernelspec": {
   "display_name": "Python 3",
   "language": "python",
   "name": "python3"
  },
  "language_info": {
   "codemirror_mode": {
    "name": "ipython",
    "version": 3
   },
   "file_extension": ".py",
   "mimetype": "text/x-python",
   "name": "python",
   "nbconvert_exporter": "python",
   "pygments_lexer": "ipython3",
   "version": "3.7.6"
  }
 },
 "nbformat": 4,
 "nbformat_minor": 4
}
