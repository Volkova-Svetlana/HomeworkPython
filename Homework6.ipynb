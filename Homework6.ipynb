{
 "cells": [
  {
   "cell_type": "markdown",
   "metadata": {},
   "source": [
    "Переведите содержимое файла purchase_log.txt в словарь purchases вида:\n",
    "\n",
    "{'1840e0b9d4': 'Продукты', ...}\n",
    "Учтите условия на данные:\n",
    "\n",
    "содержимое purchase_log.txt помещается в оперативную память компьютера"
   ]
  },
  {
   "cell_type": "markdown",
   "metadata": {},
   "source": [
    "Для каждого user_id в файле visit_log.csv определите третий столбец с категорией покупки (если покупка была, сам файл visit_log.csv изменять не надо). Запишите в файл funnel.csv визиты из файла visit_log.csv, в которых были покупки с указанием категории.\n",
    "\n",
    "Учтите условия на данные:\n",
    "\n",
    "содержимое purchase_log.txt помещается в оперативную память компьютера\n",
    "содержимое visit_log.csv - нет; используйте только построчную обработку этого файла"
   ]
  },
  {
   "cell_type": "code",
   "execution_count": 77,
   "metadata": {},
   "outputs": [],
   "source": [
    "with open('purchase_log.txt', encoding='utf-8') as f_log:\n",
    "    with open('visit_log.csv', 'r') as f_visit:\n",
    "        with open('funnel.csv', 'w') as f_funnel:\n",
    "            import json\n",
    "            for line in f_log:\n",
    "                line = line.strip()\n",
    "                dict_ = json.loads(line)\n",
    "                a = list(dict_.values())\n",
    "                purchases = {a[0]:a[1]}\n",
    "               \n",
    "                for el in f_visit:\n",
    "                    new_line = el.split(',')\n",
    "                    if new_line[0] in list(purchases.keys()):\n",
    "                        y = list(purchases.values())\n",
    "                        new_dict = {new_line[0]: y}\n",
    "                        json.dumps(new_dict)\n",
    "                        f_funnel.write(json.dumps(new_dict))\n",
    "                    else:\n",
    "                        f_funnel.write('none')\n",
    "f_log.close()\n",
    "f_visit.close()\n",
    "f_funnel.close()\n",
    "                    \n",
    "            "
   ]
  },
  {
   "cell_type": "code",
   "execution_count": null,
   "metadata": {},
   "outputs": [],
   "source": []
  }
 ],
 "metadata": {
  "kernelspec": {
   "display_name": "Python 3",
   "language": "python",
   "name": "python3"
  },
  "language_info": {
   "codemirror_mode": {
    "name": "ipython",
    "version": 3
   },
   "file_extension": ".py",
   "mimetype": "text/x-python",
   "name": "python",
   "nbconvert_exporter": "python",
   "pygments_lexer": "ipython3",
   "version": "3.7.6"
  }
 },
 "nbformat": 4,
 "nbformat_minor": 4
}
