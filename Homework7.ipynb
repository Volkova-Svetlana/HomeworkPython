{
 "cells": [
  {
   "cell_type": "markdown",
   "metadata": {},
   "source": [
    "Задание 1\n",
    "Напишите функцию date_range, которая возвращает список дней между датами start_date и end_date. Даты должны вводиться в формате YYYY-MM-DD.\n",
    "\n",
    "Задание 2\n",
    "Дополните функцию из первого задания проверкой на корректность дат. В случае неверного формата или если start_date > end_date должен возвращаться пустой список.\n",
    "\n",
    "Задание 3\n",
    "Дан поток дат в формате YYYY-MM-DD, в которых встречаются некорректные значения:\n",
    "stream = [‘2018-04-02’, ‘2018-02-29’, ‘2018-19-02’]\n",
    "\n",
    "Напишите функцию, которая проверяет эти даты на корректность. Т. е. для каждой даты возвращает True (дата корректна) или False (некорректная дата)."
   ]
  },
  {
   "cell_type": "code",
   "execution_count": 137,
   "metadata": {},
   "outputs": [
    {
     "name": "stdout",
     "output_type": "stream",
     "text": [
      "Введите начальную дату в формате YYYY-MM-DD 2005-10-12\n",
      "Введите конечную дату в формате YYYY-MM-DD 2005-10-16\n",
      "2005-10-12\n",
      "2005-10-13\n",
      "2005-10-14\n",
      "2005-10-15\n",
      "2005-10-16\n",
      "None\n"
     ]
    }
   ],
   "source": [
    "from datetime import datetime\n",
    "from datetime import timedelta\n",
    "user_input_start_date = input('Введите начальную дату в формате YYYY-MM-DD ')\n",
    "user_input_end_date = input('Введите конечную дату в формате YYYY-MM-DD ')\n",
    "try:\n",
    "    good_date_start = datetime.strptime(user_input_start_date, '%Y-%m-%d')\n",
    "    good_date_end = datetime.strptime(user_input_end_date, '%Y-%m-%d')\n",
    "    if good_date_start > good_date_end:\n",
    "        print('Начальная дата больше конечной даты!')\n",
    "    else:\n",
    "        def date_range():\n",
    "            current_dt = good_date_start\n",
    "            while current_dt <= good_date_end:\n",
    "                print(current_dt.strftime('%Y-%m-%d'))\n",
    "                current_dt += timedelta(days=1)\n",
    "            #return Подскажите что нужно указать, чтобы None в результате не отображалось?\n",
    "        print(date_range())\n",
    "except:\n",
    "    print('FALSE')   "
   ]
  },
  {
   "cell_type": "markdown",
   "metadata": {},
   "source": [
    "Задание 3 Дан поток дат в формате YYYY-MM-DD, в которых встречаются некорректные значения: stream = [‘2018-04-02’, ‘2018-02-29’, ‘2018-19-02’]\n",
    "\n",
    "Напишите функцию, которая проверяет эти даты на корректность. Т. е. для каждой даты возвращает True (дата корректна) или False (некорректная дата)."
   ]
  },
  {
   "cell_type": "code",
   "execution_count": 112,
   "metadata": {},
   "outputs": [
    {
     "name": "stdout",
     "output_type": "stream",
     "text": [
      "TRUE\n",
      "FALSE\n",
      "FALSE\n",
      "FALSE\n"
     ]
    }
   ],
   "source": [
    "from datetime import datetime\n",
    "stream = ['2018-04-02', '2018-02-29', '2018-19-02', 22222]\n",
    "for date in stream:     \n",
    "    try:\n",
    "        good_date = datetime.strptime(date, '%Y-%m-%d')\n",
    "        print('TRUE')\n",
    "    except:\n",
    "        print('FALSE')\n",
    "    "
   ]
  },
  {
   "cell_type": "markdown",
   "metadata": {},
   "source": [
    "Что значит ошибка list index out of range? Это ошибка индекса, возникает, если пытаться получить доступ к индексу (значению) списка, которого не существует в этом списке.\n",
    "Почему при первом запуске функция работает корректно, а при втором - нет? Потому что при повторном вызове из списка удаляется еще одно значение и в нем остается только одно уникальное значение."
   ]
  },
  {
   "cell_type": "code",
   "execution_count": null,
   "metadata": {},
   "outputs": [],
   "source": []
  },
  {
   "cell_type": "code",
   "execution_count": null,
   "metadata": {},
   "outputs": [],
   "source": []
  }
 ],
 "metadata": {
  "kernelspec": {
   "display_name": "Python 3",
   "language": "python",
   "name": "python3"
  },
  "language_info": {
   "codemirror_mode": {
    "name": "ipython",
    "version": 3
   },
   "file_extension": ".py",
   "mimetype": "text/x-python",
   "name": "python",
   "nbconvert_exporter": "python",
   "pygments_lexer": "ipython3",
   "version": "3.7.6"
  }
 },
 "nbformat": 4,
 "nbformat_minor": 4
}
