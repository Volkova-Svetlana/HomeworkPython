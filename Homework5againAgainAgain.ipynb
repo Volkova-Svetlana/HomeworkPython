{
 "cells": [
  {
   "cell_type": "markdown",
   "metadata": {},
   "source": [
    "Вы работаете секретарем и вам постоянно приходят различные документы. Вы должны быть очень внимательны, чтобы не потерять ни один документ. Каталог документов хранится в следующем виде:"
   ]
  },
  {
   "cell_type": "code",
   "execution_count": 16,
   "metadata": {},
   "outputs": [],
   "source": [
    "documents = [\n",
    "    {'type': 'passport', 'number': '2207 876234', 'name': 'Василий Гупкин'},\n",
    "    {'type': 'invoice', 'number': '11-2', 'name': 'Геннадий Покемонов'},\n",
    "    {'type': 'insurance', 'number': '10006', 'name': 'Аристарх Павлов'}\n",
    "]\n"
   ]
  },
  {
   "cell_type": "markdown",
   "metadata": {},
   "source": [
    "Перечень полок, на которых находятся документы хранится в следующем виде:"
   ]
  },
  {
   "cell_type": "code",
   "execution_count": 17,
   "metadata": {},
   "outputs": [],
   "source": [
    "directories = {\n",
    "    '1': ['2207 876234', '11-2'],\n",
    "    '2': ['10006'],\n",
    "    '3': []\n",
    "}"
   ]
  },
  {
   "cell_type": "markdown",
   "metadata": {},
   "source": [
    "Необходимо реализовать пользовательские команды (внимание! это не название функций, которые должны быть выразительными, а команды, которые вводит пользователь, чтобы получить необходимый результат):\n",
    "\n",
    "p – people – команда, которая спросит номер документа и выведет имя человека, которому он принадлежит;\n",
    "s – shelf – команда, которая спросит номер документа и выведет номер полки, на которой он находится\n",
    "Правильно обработайте ситуацию, когда пользователь будет вводить несуществующий документ.\n",
    "l – list – команда, которая выведет список всех документов в формате\n",
    "passport \"2207 876234\" \"Василий Гупкин\"\n",
    "as – add shelf – команда, которая спросит номер новой полки и добавит ее в перечень\n",
    "d – delete – команда, которая спросит номер документа и удалит его из каталога и из перечня полок. Предусмотрите сценарий, когда пользователь вводит несуществующий документ;\n",
    "m – move – команда, которая спросит номер документа и целевую полку и переместит его с текущей полки на целевую. Корректно обработайте кейсы, когда пользователь пытается переместить несуществующий документ или переместить документ на несуществующую полку;\n",
    "a – add – команда, которая добавит новый документ в каталог и в перечень полок, спросив его номер, тип, имя владельца и номер полки, на котором он будет храниться."
   ]
  },
  {
   "cell_type": "code",
   "execution_count": 18,
   "metadata": {},
   "outputs": [],
   "source": [
    "#p-people\n",
    "def doc_number(documents):\n",
    "    user_input = input('Введите номер документа ')\n",
    "    result = ''\n",
    "    for element in documents:\n",
    "        if user_input == element['number']:\n",
    "            result = element['name']\n",
    "    if len(result) != 0:        \n",
    "        print(result)\n",
    "    else:\n",
    "        print('Документ с таким номером не существует.')\n",
    "#print(doc_number(documents))"
   ]
  },
  {
   "cell_type": "code",
   "execution_count": 19,
   "metadata": {},
   "outputs": [],
   "source": [
    "#s – shelf\n",
    "def shelf_number(directories):\n",
    "    user_input = input('Введите номер документа ')\n",
    "    for k, v in directories.items():\n",
    "        if user_input in v:\n",
    "            result = k\n",
    "            print(result)\n",
    "            break\n",
    "    else:\n",
    "        print('Документ с таким номером не существует.')\n",
    "#print(shelf_number(directories))"
   ]
  },
  {
   "cell_type": "code",
   "execution_count": 20,
   "metadata": {},
   "outputs": [],
   "source": [
    "#l – list\n",
    "def doc_list(documents):\n",
    "    for element in documents:\n",
    "        a = element['type'] + '\"' + element['number'] + '\"' + '\"' + element['name'] + '\"'\n",
    "        print(a)\n",
    "#print(doc_list(documents))\n",
    "       "
   ]
  },
  {
   "cell_type": "code",
   "execution_count": 21,
   "metadata": {},
   "outputs": [],
   "source": [
    "#as – add shelf\n",
    "def add_shelf(directories):\n",
    "    user_input = input('Введите номер новой полки ')\n",
    "    if user_input not in directories.keys():\n",
    "        directories.update({user_input:[]})\n",
    "        print(directories)\n",
    "    else:\n",
    "        print('Полка с таким номером уже существует.')        \n",
    "#print(add_shelf(directories))\n"
   ]
  },
  {
   "cell_type": "code",
   "execution_count": 22,
   "metadata": {},
   "outputs": [],
   "source": [
    "#d – delete\n",
    "\n",
    "def del_doc(documents, directories): \n",
    "    user_input = input('Введите номер документа ')\n",
    "    awnser = False\n",
    "    for element in documents:\n",
    "        if user_input == element['number']:\n",
    "            awnser = True\n",
    "            documents.remove(element)\n",
    "            print(documents)\n",
    "            break\n",
    "    if not awnser:\n",
    "        print('Документ с таким номером не существует.')\n",
    "           \n",
    "    awnser = False\n",
    "    for shelf in directories:\n",
    "        if user_input in directories.get(shelf):\n",
    "            awnser = True\n",
    "            directories.get(shelf).remove(user_input)\n",
    "            print(directories)\n",
    "            break\n",
    "    if not awnser:\n",
    "        print('Документ с таким номером не существует.')\n",
    "    \n",
    "\n",
    "#print(del_doc(documents, directories))\n"
   ]
  },
  {
   "cell_type": "code",
   "execution_count": 23,
   "metadata": {},
   "outputs": [],
   "source": [
    "#m – move\n",
    "def move_doc(directories): \n",
    "    user_input = input('Введите номер документа ')\n",
    "    user_input2 = input('Введите целевую полку ')\n",
    "    direct = False\n",
    "    for element in directories:\n",
    "        if element == user_input2:\n",
    "            direct = True\n",
    "    if direct:\n",
    "        result = False\n",
    "        for element in directories:\n",
    "            if user_input in directories.get(element):\n",
    "                result = True\n",
    "                directories.get(element).remove(user_input)\n",
    "                directories.get(user_input2).append(user_input)\n",
    "                break\n",
    "        if not result:\n",
    "            print('Документ с таким номером не существует.')\n",
    "    else:\n",
    "        print('Полка с таким номером не существует.')  \n",
    "    \n",
    "#print(move_doc(directories))"
   ]
  },
  {
   "cell_type": "code",
   "execution_count": 24,
   "metadata": {},
   "outputs": [],
   "source": [
    "#a – add\n",
    "def add_doc(documents, directories): \n",
    "    user_input = input('Введите номер документа ')\n",
    "    user_input2 = input('Введите тип документа ')\n",
    "    user_input3 = input('Введите имя владельца ')\n",
    "    user_input4 = input('Введите номер полки для хранения документа ')\n",
    "    for element in documents:\n",
    "        if user_input in element['number']:\n",
    "            return('Документ с таким номером уже существует.')\n",
    "    else:\n",
    "        documents.append({'type':user_input2, 'number':user_input, 'name':user_input3})   \n",
    "        print(documents)\n",
    "            \n",
    "        \n",
    "    for k, v in list(directories.items()):\n",
    "        if user_input not in v:\n",
    "            directories[user_input4].append(user_input)\n",
    "            print(directories)\n",
    "        else:\n",
    "            return('Документ с таким номером уже существует.')\n",
    "        break\n",
    "\n",
    "#print(add_doc(documents, directories))"
   ]
  },
  {
   "cell_type": "code",
   "execution_count": 25,
   "metadata": {},
   "outputs": [],
   "source": [
    "def main(documents, directories):\n",
    "    while True:\n",
    "        command = input('Введите команду ')\n",
    "        if command == 'p':\n",
    "            doc_number(documents)\n",
    "        elif command == 's':\n",
    "            shelf_number(directories)\n",
    "        elif command == 'l':\n",
    "            doc_list(documents)\n",
    "        elif command == 'as':\n",
    "            add_shelf(directories)\n",
    "        elif command == 'd':\n",
    "            del_doc(documents, directories)\n",
    "        elif command == 'm':\n",
    "            move_doc(directories)\n",
    "        elif command == 'a':\n",
    "            add_doc(documents, directories)\n",
    "        elif command == 'q':\n",
    "            print('До свидания')\n",
    "            break"
   ]
  },
  {
   "cell_type": "code",
   "execution_count": 26,
   "metadata": {},
   "outputs": [
    {
     "name": "stdout",
     "output_type": "stream",
     "text": [
      "Введите команду p\n",
      "Введите номер документа 11-2\n",
      "Геннадий Покемонов\n",
      "Введите команду s\n",
      "Введите номер документа 10006\n",
      "2\n",
      "Введите команду l\n",
      "passport\"2207 876234\"\"Василий Гупкин\"\n",
      "invoice\"11-2\"\"Геннадий Покемонов\"\n",
      "insurance\"10006\"\"Аристарх Павлов\"\n",
      "Введите команду as\n",
      "Введите номер новой полки 5\n",
      "{'1': ['2207 876234', '11-2'], '2': ['10006'], '3': [], '5': []}\n",
      "Введите команду d\n",
      "Введите номер документа 11-2\n",
      "[{'type': 'passport', 'number': '2207 876234', 'name': 'Василий Гупкин'}, {'type': 'insurance', 'number': '10006', 'name': 'Аристарх Павлов'}]\n",
      "{'1': ['2207 876234'], '2': ['10006'], '3': [], '5': []}\n",
      "Введите команду m\n",
      "Введите номер документа 10006\n",
      "Введите целевую полку 3\n",
      "Введите команду a\n",
      "Введите номер документа 11-2\n",
      "Введите тип документа kjhkj\n",
      "Введите имя владельца kjj\n",
      "Введите номер полки для хранения документа 3\n",
      "[{'type': 'passport', 'number': '2207 876234', 'name': 'Василий Гупкин'}, {'type': 'insurance', 'number': '10006', 'name': 'Аристарх Павлов'}, {'type': 'kjhkj', 'number': '11-2', 'name': 'kjj'}]\n",
      "{'1': ['2207 876234'], '2': [], '3': ['10006', '11-2'], '5': []}\n",
      "Введите команду q\n",
      "До свидания\n"
     ]
    }
   ],
   "source": [
    "main(documents, directories)"
   ]
  },
  {
   "cell_type": "code",
   "execution_count": null,
   "metadata": {},
   "outputs": [],
   "source": []
  },
  {
   "cell_type": "code",
   "execution_count": null,
   "metadata": {},
   "outputs": [],
   "source": []
  }
 ],
 "metadata": {
  "kernelspec": {
   "display_name": "Python 3",
   "language": "python",
   "name": "python3"
  },
  "language_info": {
   "codemirror_mode": {
    "name": "ipython",
    "version": 3
   },
   "file_extension": ".py",
   "mimetype": "text/x-python",
   "name": "python",
   "nbconvert_exporter": "python",
   "pygments_lexer": "ipython3",
   "version": "3.7.6"
  }
 },
 "nbformat": 4,
 "nbformat_minor": 4
}
